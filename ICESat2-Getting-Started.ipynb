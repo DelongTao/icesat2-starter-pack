{
 "cells": [
  {
   "cell_type": "markdown",
   "metadata": {},
   "source": [
    "# Getting Started with ICESat-2"
   ]
  },
  {
   "cell_type": "markdown",
   "metadata": {},
   "source": [
    "![icesat2](https://eospso.nasa.gov/sites/default/files/sat/ICESat-2.jpg \"Credit: NASA Eearth Observing System\")\n",
    "\n",
    "Data and documentation hosted at the [National Snow and Ice Data Center](https://nsidc.org/data/icesat-2)\n",
    "\n",
    "There are numerous [data products](https://nsidc.org/data/icesat-2/products/), including:\n",
    "    \n",
    "[Level 2](https://nsidc.org/data/icesat-2/products/level-2) - low-level instrument data\n",
    "\n",
    "* ATL03 - Photon point cloud (level 2 \"raw\" photon data -- very large volume data}\n",
    "* ...\n",
    "\n",
    "[Level 3A](https://nsidc.org/data/icesat-2/products/level-3a) - domain specific generated products\n",
    "\n",
    "* ATL06 - Land Ice\n",
    "* ATL07 - Sea Ice\n",
    "* ATL08 - Land/vegetation\n",
    "* ...\n",
    "\n",
    "[Level 3B](https://nsidc.org/data/icesat-2/products/level-3b) - high level generated products, gridded, modelling enhanced, etc...\n",
    "\n",
    "* ATL11 - Annual land ice change (ATL06 compiled product)\n",
    "* ...\n",
    "\n",
    "For the technical description of algorithms and design for each product, see the Algorithm Theoretic Basis Documents (ATBDs) accessible [here]()\n",
    "\n",
    "And data-dictionaries provide a description of the fields in the data granules"
   ]
  },
  {
   "cell_type": "markdown",
   "metadata": {},
   "source": [
    "## Getting the data\n",
    "\n",
    "These are the ways to access the data:\n",
    "\n",
    "* [Earthdata Search](https://search.earthdata.nasa.gov/search) -- tool for browsing and ordering a wide variety of NASA public data sets\n",
    "* [OpenAltimetry](https://openaltimetry.org/data/icesat2/) -- tool for exploring ICESat and ICESat-2 data\n",
    "* [EGI Programmatic Access API](https://wiki.earthdata.nasa.gov/display/SDPSDOCS/EGI+Programmatic+Access+Documentation) -- Application Programming Interface for data services including search, ordering, subsetting, reformatting etc..."
   ]
  },
  {
   "cell_type": "markdown",
   "metadata": {},
   "source": [
    "## Additional resources\n",
    "\n",
    "Some other resources that might be useful:\n",
    "\n",
    "* [ICESat-2 Hackweek tutorials](https://github.com/ICESAT-2HackWeek/ICESat2_hackweek_tutorials)\n",
    "* [SpaceApps Challenge](https://2019.spaceappschallenge.org/challenges/living-our-world/where-tall-things-are/details) -- Event is Oct 18 -- ICESat-2 topic application to new surface types\n",
    "* [NSIDC Data Access tutorial](https://github.com/nsidc/NSIDC-Data-Access-Notebook) -- Tutorial notebook covering programmatic access services"
   ]
  },
  {
   "cell_type": "code",
   "execution_count": null,
   "metadata": {},
   "outputs": [],
   "source": []
  }
 ],
 "metadata": {
  "kernelspec": {
   "display_name": "Python 3",
   "language": "python",
   "name": "python3"
  },
  "language_info": {
   "codemirror_mode": {
    "name": "ipython",
    "version": 3
   },
   "file_extension": ".py",
   "mimetype": "text/x-python",
   "name": "python",
   "nbconvert_exporter": "python",
   "pygments_lexer": "ipython3",
   "version": "3.7.3"
  }
 },
 "nbformat": 4,
 "nbformat_minor": 4
}
